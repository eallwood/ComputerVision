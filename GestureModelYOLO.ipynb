{
 "cells": [
  {
   "cell_type": "code",
   "execution_count": 1,
   "metadata": {},
   "outputs": [],
   "source": [
    "import logging\n",
    "logging.basicConfig(level=logging.DEBUG)"
   ]
  },
  {
   "cell_type": "code",
   "execution_count": 2,
   "metadata": {
    "colab": {
     "base_uri": "https://localhost:8080/"
    },
    "id": "yTNUoSfP7N4y",
    "outputId": "6d4259e8-4a75-4987-ade6-5489b8265353",
    "scrolled": true
   },
   "outputs": [
    {
     "name": "stdout",
     "output_type": "stream",
     "text": [
      "Sun Nov  3 22:00:44 2024       \n",
      "+-----------------------------------------------------------------------------------------+\n",
      "| NVIDIA-SMI 560.94                 Driver Version: 560.94         CUDA Version: 12.6     |\n",
      "|-----------------------------------------+------------------------+----------------------+\n",
      "| GPU  Name                  Driver-Model | Bus-Id          Disp.A | Volatile Uncorr. ECC |\n",
      "| Fan  Temp   Perf          Pwr:Usage/Cap |           Memory-Usage | GPU-Util  Compute M. |\n",
      "|                                         |                        |               MIG M. |\n",
      "|=========================================+========================+======================|\n",
      "|   0  NVIDIA GeForce RTX 4060 Ti   WDDM  |   00000000:07:00.0  On |                  N/A |\n",
      "|  0%   44C    P5             13W /  160W |    4544MiB /   8188MiB |     44%      Default |\n",
      "|                                         |                        |                  N/A |\n",
      "+-----------------------------------------+------------------------+----------------------+\n",
      "                                                                                         \n",
      "+-----------------------------------------------------------------------------------------+\n",
      "| Processes:                                                                              |\n",
      "|  GPU   GI   CI        PID   Type   Process name                              GPU Memory |\n",
      "|        ID   ID                                                               Usage      |\n",
      "|=========================================================================================|\n",
      "|    0   N/A  N/A      9072    C+G   ...al\\Discord\\app-1.0.9168\\Discord.exe      N/A      |\n",
      "|    0   N/A  N/A     10912    C+G   ...__8wekyb3d8bbwe\\Microsoft.Notes.exe      N/A      |\n",
      "|    0   N/A  N/A     11468    C+G   ...CBS_cw5n1h2txyewy\\TextInputHost.exe      N/A      |\n",
      "|    0   N/A  N/A     15920    C+G   ...al\\Discord\\app-1.0.9168\\Discord.exe      N/A      |\n",
      "|    0   N/A  N/A     17928    C+G   ...cal\\Microsoft\\OneDrive\\OneDrive.exe      N/A      |\n",
      "|    0   N/A  N/A     18724    C+G   ...up\\ui-launcher\\AdskAccessUIHost.exe      N/A      |\n",
      "|    0   N/A  N/A     19988    C+G   ...B\\system_tray\\lghub_system_tray.exe      N/A      |\n",
      "|    0   N/A  N/A     23996    C+G   ...m Files (x86)\\Overwolf\\Overwolf.exe      N/A      |\n",
      "|    0   N/A  N/A     24520    C+G   ... Synapse 3 Host\\Razer Synapse 3.exe      N/A      |\n",
      "|    0   N/A  N/A     24704    C+G   C:\\Program Files\\NZXT CAM\\NZXT CAM.exe      N/A      |\n",
      "|    0   N/A  N/A     26648    C+G   ...rwolf\\0.260.0.8\\OverwolfBrowser.exe      N/A      |\n",
      "|    0   N/A  N/A     27272    C+G   ...inaries\\Win64\\EpicGamesLauncher.exe      N/A      |\n",
      "|    0   N/A  N/A     27864    C+G   ...ne\\Binaries\\Win64\\EpicWebHelper.exe      N/A      |\n",
      "|    0   N/A  N/A     28772    C+G   ...on\\130.0.2849.56\\msedgewebview2.exe      N/A      |\n",
      "|    0   N/A  N/A     30336    C+G   ...pcy8vm99wrpcg\\ModernFlyoutsHost.exe      N/A      |\n",
      "|    0   N/A  N/A     30524    C+G   ...a\\Local\\slack\\app-4.41.96\\slack.exe      N/A      |\n",
      "|    0   N/A  N/A     31312    C+G   ....0.57779_x64__ttt1ap7aakyb4\\Arc.exe      N/A      |\n",
      "|    0   N/A  N/A     35744    C+G   ...es (x86)\\Dropbox\\Client\\Dropbox.exe      N/A      |\n",
      "|    0   N/A  N/A     35908    C+G   ...on\\130.0.2849.56\\msedgewebview2.exe      N/A      |\n",
      "|    0   N/A  N/A     37124    C+G   ...on\\HEX\\Creative Cloud UI Helper.exe      N/A      |\n",
      "|    0   N/A  N/A     37804    C+G   ...es (x86)\\Dropbox\\Client\\Dropbox.exe      N/A      |\n",
      "|    0   N/A  N/A     38620    C+G   C:\\Windows\\explorer.exe                     N/A      |\n",
      "|    0   N/A  N/A     38828    C+G   ...ejd91yc\\AdobeNotificationClient.exe      N/A      |\n",
      "|    0   N/A  N/A     56608    C+G   ...39.0_x64__zpdnekdrzrea0\\Spotify.exe      N/A      |\n",
      "|    0   N/A  N/A     58328    C+G   ...\\cef\\cef.win7x64\\steamwebhelper.exe      N/A      |\n",
      "|    0   N/A  N/A     58948    C+G   ...\\cef\\cef.win7x64\\steamwebhelper.exe      N/A      |\n",
      "|    0   N/A  N/A     64352    C+G   ...siveControlPanel\\SystemSettings.exe      N/A      |\n",
      "|    0   N/A  N/A     65556    C+G   ...2txyewy\\StartMenuExperienceHost.exe      N/A      |\n",
      "|    0   N/A  N/A     66764    C+G   ...a\\Local\\Figma\\app-124.5.5\\Figma.exe      N/A      |\n",
      "|    0   N/A  N/A     67900    C+G   ...nt.CBS_cw5n1h2txyewy\\SearchHost.exe      N/A      |\n",
      "|    0   N/A  N/A     68672    C+G   C:\\Windows\\explorer.exe                     N/A      |\n",
      "|    0   N/A  N/A     68764    C+G   ...les\\CEPHtmlEngine\\CEPHtmlEngine.exe      N/A      |\n",
      "|    0   N/A  N/A     69100    C+G   ...5n1h2txyewy\\ShellExperienceHost.exe      N/A      |\n",
      "|    0   N/A  N/A     70040    C+G   ...ects 2024\\Support Files\\AfterFX.exe      N/A      |\n",
      "|    0   N/A  N/A     70528    C+G   ...les\\CEPHtmlEngine\\CEPHtmlEngine.exe      N/A      |\n",
      "|    0   N/A  N/A     94940    C+G   ...crosoft\\Edge\\Application\\msedge.exe      N/A      |\n",
      "|    0   N/A  N/A     98288    C+G   ...8bbwe\\SnippingTool\\SnippingTool.exe      N/A      |\n",
      "|    0   N/A  N/A    125792    C+G   ...ft Office\\root\\Office16\\WINWORD.EXE      N/A      |\n",
      "|    0   N/A  N/A    136652    C+G   ...__8wekyb3d8bbwe\\WindowsTerminal.exe      N/A      |\n",
      "|    0   N/A  N/A    140828    C+G   C:\\Windows\\explorer.exe                     N/A      |\n",
      "+-----------------------------------------------------------------------------------------+\n"
     ]
    }
   ],
   "source": [
    "!nvidia-smi"
   ]
  },
  {
   "cell_type": "code",
   "execution_count": 3,
   "metadata": {
    "colab": {
     "base_uri": "https://localhost:8080/"
    },
    "id": "in0ESZ_-8o3d",
    "outputId": "bfb4bc0d-d774-449d-e816-2979cb94d675",
    "scrolled": true
   },
   "outputs": [
    {
     "name": "stdout",
     "output_type": "stream",
     "text": [
      "Defaulting to user installation because normal site-packages is not writeable\n",
      "Requirement already satisfied: ultralytics in c:\\users\\ethan\\appdata\\local\\packages\\pythonsoftwarefoundation.python.3.12_qbz5n2kfra8p0\\localcache\\local-packages\\python312\\site-packages (8.3.27)\n",
      "Requirement already satisfied: numpy>=1.23.0 in c:\\users\\ethan\\appdata\\local\\packages\\pythonsoftwarefoundation.python.3.12_qbz5n2kfra8p0\\localcache\\local-packages\\python312\\site-packages (from ultralytics) (1.26.4)\n",
      "Requirement already satisfied: matplotlib>=3.3.0 in c:\\users\\ethan\\appdata\\local\\packages\\pythonsoftwarefoundation.python.3.12_qbz5n2kfra8p0\\localcache\\local-packages\\python312\\site-packages (from ultralytics) (3.9.2)\n",
      "Requirement already satisfied: opencv-python>=4.6.0 in c:\\users\\ethan\\appdata\\local\\packages\\pythonsoftwarefoundation.python.3.12_qbz5n2kfra8p0\\localcache\\local-packages\\python312\\site-packages (from ultralytics) (4.10.0.84)\n",
      "Requirement already satisfied: pillow>=7.1.2 in c:\\users\\ethan\\appdata\\local\\packages\\pythonsoftwarefoundation.python.3.12_qbz5n2kfra8p0\\localcache\\local-packages\\python312\\site-packages (from ultralytics) (11.0.0)\n",
      "Requirement already satisfied: pyyaml>=5.3.1 in c:\\users\\ethan\\appdata\\local\\packages\\pythonsoftwarefoundation.python.3.12_qbz5n2kfra8p0\\localcache\\local-packages\\python312\\site-packages (from ultralytics) (6.0.2)\n",
      "Requirement already satisfied: requests>=2.23.0 in c:\\users\\ethan\\appdata\\local\\packages\\pythonsoftwarefoundation.python.3.12_qbz5n2kfra8p0\\localcache\\local-packages\\python312\\site-packages (from ultralytics) (2.32.3)\n",
      "Requirement already satisfied: scipy>=1.4.1 in c:\\users\\ethan\\appdata\\local\\packages\\pythonsoftwarefoundation.python.3.12_qbz5n2kfra8p0\\localcache\\local-packages\\python312\\site-packages (from ultralytics) (1.14.1)\n",
      "Requirement already satisfied: torch>=1.8.0 in c:\\users\\ethan\\appdata\\local\\packages\\pythonsoftwarefoundation.python.3.12_qbz5n2kfra8p0\\localcache\\local-packages\\python312\\site-packages (from ultralytics) (2.5.1)\n",
      "Requirement already satisfied: torchvision>=0.9.0 in c:\\users\\ethan\\appdata\\local\\packages\\pythonsoftwarefoundation.python.3.12_qbz5n2kfra8p0\\localcache\\local-packages\\python312\\site-packages (from ultralytics) (0.20.1)\n",
      "Requirement already satisfied: tqdm>=4.64.0 in c:\\users\\ethan\\appdata\\local\\packages\\pythonsoftwarefoundation.python.3.12_qbz5n2kfra8p0\\localcache\\local-packages\\python312\\site-packages (from ultralytics) (4.66.6)\n",
      "Requirement already satisfied: psutil in c:\\users\\ethan\\appdata\\local\\packages\\pythonsoftwarefoundation.python.3.12_qbz5n2kfra8p0\\localcache\\local-packages\\python312\\site-packages (from ultralytics) (6.1.0)\n",
      "Requirement already satisfied: py-cpuinfo in c:\\users\\ethan\\appdata\\local\\packages\\pythonsoftwarefoundation.python.3.12_qbz5n2kfra8p0\\localcache\\local-packages\\python312\\site-packages (from ultralytics) (9.0.0)\n",
      "Requirement already satisfied: pandas>=1.1.4 in c:\\users\\ethan\\appdata\\local\\packages\\pythonsoftwarefoundation.python.3.12_qbz5n2kfra8p0\\localcache\\local-packages\\python312\\site-packages (from ultralytics) (2.2.3)\n",
      "Requirement already satisfied: seaborn>=0.11.0 in c:\\users\\ethan\\appdata\\local\\packages\\pythonsoftwarefoundation.python.3.12_qbz5n2kfra8p0\\localcache\\local-packages\\python312\\site-packages (from ultralytics) (0.13.2)\n",
      "Requirement already satisfied: ultralytics-thop>=2.0.0 in c:\\users\\ethan\\appdata\\local\\packages\\pythonsoftwarefoundation.python.3.12_qbz5n2kfra8p0\\localcache\\local-packages\\python312\\site-packages (from ultralytics) (2.0.10)\n",
      "Requirement already satisfied: contourpy>=1.0.1 in c:\\users\\ethan\\appdata\\local\\packages\\pythonsoftwarefoundation.python.3.12_qbz5n2kfra8p0\\localcache\\local-packages\\python312\\site-packages (from matplotlib>=3.3.0->ultralytics) (1.3.0)\n",
      "Requirement already satisfied: cycler>=0.10 in c:\\users\\ethan\\appdata\\local\\packages\\pythonsoftwarefoundation.python.3.12_qbz5n2kfra8p0\\localcache\\local-packages\\python312\\site-packages (from matplotlib>=3.3.0->ultralytics) (0.12.1)\n",
      "Requirement already satisfied: fonttools>=4.22.0 in c:\\users\\ethan\\appdata\\local\\packages\\pythonsoftwarefoundation.python.3.12_qbz5n2kfra8p0\\localcache\\local-packages\\python312\\site-packages (from matplotlib>=3.3.0->ultralytics) (4.54.1)\n",
      "Requirement already satisfied: kiwisolver>=1.3.1 in c:\\users\\ethan\\appdata\\local\\packages\\pythonsoftwarefoundation.python.3.12_qbz5n2kfra8p0\\localcache\\local-packages\\python312\\site-packages (from matplotlib>=3.3.0->ultralytics) (1.4.7)\n",
      "Requirement already satisfied: packaging>=20.0 in c:\\users\\ethan\\appdata\\local\\packages\\pythonsoftwarefoundation.python.3.12_qbz5n2kfra8p0\\localcache\\local-packages\\python312\\site-packages (from matplotlib>=3.3.0->ultralytics) (24.1)\n",
      "Requirement already satisfied: pyparsing>=2.3.1 in c:\\users\\ethan\\appdata\\local\\packages\\pythonsoftwarefoundation.python.3.12_qbz5n2kfra8p0\\localcache\\local-packages\\python312\\site-packages (from matplotlib>=3.3.0->ultralytics) (3.2.0)\n",
      "Requirement already satisfied: python-dateutil>=2.7 in c:\\users\\ethan\\appdata\\local\\packages\\pythonsoftwarefoundation.python.3.12_qbz5n2kfra8p0\\localcache\\local-packages\\python312\\site-packages (from matplotlib>=3.3.0->ultralytics) (2.9.0.post0)\n",
      "Requirement already satisfied: pytz>=2020.1 in c:\\users\\ethan\\appdata\\local\\packages\\pythonsoftwarefoundation.python.3.12_qbz5n2kfra8p0\\localcache\\local-packages\\python312\\site-packages (from pandas>=1.1.4->ultralytics) (2022.7.1)\n",
      "Requirement already satisfied: tzdata>=2022.7 in c:\\users\\ethan\\appdata\\local\\packages\\pythonsoftwarefoundation.python.3.12_qbz5n2kfra8p0\\localcache\\local-packages\\python312\\site-packages (from pandas>=1.1.4->ultralytics) (2024.2)\n",
      "Requirement already satisfied: charset-normalizer<4,>=2 in c:\\users\\ethan\\appdata\\local\\packages\\pythonsoftwarefoundation.python.3.12_qbz5n2kfra8p0\\localcache\\local-packages\\python312\\site-packages (from requests>=2.23.0->ultralytics) (3.4.0)\n",
      "Requirement already satisfied: idna<4,>=2.5 in c:\\users\\ethan\\appdata\\local\\packages\\pythonsoftwarefoundation.python.3.12_qbz5n2kfra8p0\\localcache\\local-packages\\python312\\site-packages (from requests>=2.23.0->ultralytics) (3.10)\n",
      "Requirement already satisfied: urllib3<3,>=1.21.1 in c:\\users\\ethan\\appdata\\local\\packages\\pythonsoftwarefoundation.python.3.12_qbz5n2kfra8p0\\localcache\\local-packages\\python312\\site-packages (from requests>=2.23.0->ultralytics) (1.26.20)\n",
      "Requirement already satisfied: certifi>=2017.4.17 in c:\\users\\ethan\\appdata\\local\\packages\\pythonsoftwarefoundation.python.3.12_qbz5n2kfra8p0\\localcache\\local-packages\\python312\\site-packages (from requests>=2.23.0->ultralytics) (2024.8.30)\n",
      "Requirement already satisfied: filelock in c:\\users\\ethan\\appdata\\local\\packages\\pythonsoftwarefoundation.python.3.12_qbz5n2kfra8p0\\localcache\\local-packages\\python312\\site-packages (from torch>=1.8.0->ultralytics) (3.16.1)\n",
      "Requirement already satisfied: typing-extensions>=4.8.0 in c:\\users\\ethan\\appdata\\local\\packages\\pythonsoftwarefoundation.python.3.12_qbz5n2kfra8p0\\localcache\\local-packages\\python312\\site-packages (from torch>=1.8.0->ultralytics) (4.12.2)\n",
      "Requirement already satisfied: networkx in c:\\users\\ethan\\appdata\\local\\packages\\pythonsoftwarefoundation.python.3.12_qbz5n2kfra8p0\\localcache\\local-packages\\python312\\site-packages (from torch>=1.8.0->ultralytics) (3.4.2)\n",
      "Requirement already satisfied: jinja2 in c:\\users\\ethan\\appdata\\local\\packages\\pythonsoftwarefoundation.python.3.12_qbz5n2kfra8p0\\localcache\\local-packages\\python312\\site-packages (from torch>=1.8.0->ultralytics) (3.1.4)\n",
      "Requirement already satisfied: fsspec in c:\\users\\ethan\\appdata\\local\\packages\\pythonsoftwarefoundation.python.3.12_qbz5n2kfra8p0\\localcache\\local-packages\\python312\\site-packages (from torch>=1.8.0->ultralytics) (2024.10.0)\n",
      "Requirement already satisfied: setuptools in c:\\users\\ethan\\appdata\\local\\packages\\pythonsoftwarefoundation.python.3.12_qbz5n2kfra8p0\\localcache\\local-packages\\python312\\site-packages (from torch>=1.8.0->ultralytics) (75.3.0)\n",
      "Requirement already satisfied: sympy==1.13.1 in c:\\users\\ethan\\appdata\\local\\packages\\pythonsoftwarefoundation.python.3.12_qbz5n2kfra8p0\\localcache\\local-packages\\python312\\site-packages (from torch>=1.8.0->ultralytics) (1.13.1)\n",
      "Requirement already satisfied: mpmath<1.4,>=1.1.0 in c:\\users\\ethan\\appdata\\local\\packages\\pythonsoftwarefoundation.python.3.12_qbz5n2kfra8p0\\localcache\\local-packages\\python312\\site-packages (from sympy==1.13.1->torch>=1.8.0->ultralytics) (1.3.0)\n",
      "Requirement already satisfied: colorama in c:\\users\\ethan\\appdata\\local\\packages\\pythonsoftwarefoundation.python.3.12_qbz5n2kfra8p0\\localcache\\local-packages\\python312\\site-packages (from tqdm>=4.64.0->ultralytics) (0.4.6)\n",
      "Requirement already satisfied: six>=1.5 in c:\\users\\ethan\\appdata\\local\\packages\\pythonsoftwarefoundation.python.3.12_qbz5n2kfra8p0\\localcache\\local-packages\\python312\\site-packages (from python-dateutil>=2.7->matplotlib>=3.3.0->ultralytics) (1.16.0)\n",
      "Requirement already satisfied: MarkupSafe>=2.0 in c:\\users\\ethan\\appdata\\local\\packages\\pythonsoftwarefoundation.python.3.12_qbz5n2kfra8p0\\localcache\\local-packages\\python312\\site-packages (from jinja2->torch>=1.8.0->ultralytics) (3.0.2)\n"
     ]
    }
   ],
   "source": [
    "!pip install ultralytics"
   ]
  },
  {
   "cell_type": "code",
   "execution_count": 4,
   "metadata": {
    "colab": {
     "base_uri": "https://localhost:8080/",
     "height": 345
    },
    "id": "weeb125y8zJo",
    "outputId": "c3556748-45f5-4810-ae15-63f17bd885b9"
   },
   "outputs": [
    {
     "name": "stdout",
     "output_type": "stream",
     "text": [
      "Ultralytics 8.3.27  Python-3.12.7 torch-2.5.1+cpu CPU (AMD Ryzen 7 5800X 8-Core Processor)\n",
      "Setup complete  (16 CPUs, 31.9 GB RAM, 416.1/448.7 GB disk)\n"
     ]
    }
   ],
   "source": [
    "import ultralytics\n",
    "ultralytics.checks()"
   ]
  },
  {
   "cell_type": "code",
   "execution_count": 5,
   "metadata": {
    "id": "N5AiXdoK8-T1"
   },
   "outputs": [],
   "source": [
    "from ultralytics import YOLO\n",
    "from IPython.display import Image"
   ]
  },
  {
   "cell_type": "code",
   "execution_count": 15,
   "metadata": {
    "colab": {
     "base_uri": "https://localhost:8080/"
    },
    "editable": true,
    "id": "OnyfEpfI9TWF",
    "outputId": "b8a3b945-3617-4732-bb7f-189d2c443222",
    "scrolled": true,
    "slideshow": {
     "slide_type": ""
    },
    "tags": []
   },
   "outputs": [
    {
     "name": "stdout",
     "output_type": "stream",
     "text": [
      "Ultralytics 8.3.27 ðŸš€ Python-3.12.7 torch-2.5.1+cpu CPU (AMD Ryzen 7 5800X 8-Core Processor)\n",
      "\u001b[34m\u001b[1mengine\\trainer: \u001b[0mtask=detect, mode=train, model=C:\\Users\\ethan\\JupyterEnv\\runs\\detect\\train10\\weights\\best.pt, data=C:\\Users\\ethan\\JupyterEnv\\ASL_Data\\data.yaml, epochs=100, time=None, patience=100, batch=16, imgsz=640, save=True, save_period=-1, cache=False, device=None, workers=0, project=None, name=train102, exist_ok=False, pretrained=True, optimizer=auto, verbose=True, seed=0, deterministic=True, single_cls=False, rect=False, cos_lr=False, close_mosaic=10, resume=C:\\Users\\ethan\\JupyterEnv\\runs\\detect\\train10\\weights\\best.pt, amp=True, fraction=1.0, profile=False, freeze=None, multi_scale=False, overlap_mask=True, mask_ratio=4, dropout=0.0, val=True, split=val, save_json=False, save_hybrid=False, conf=None, iou=0.7, max_det=300, half=False, dnn=False, plots=True, source=None, vid_stride=1, stream_buffer=False, visualize=False, augment=False, agnostic_nms=False, classes=None, retina_masks=False, embed=None, show=False, save_frames=False, save_txt=False, save_conf=False, save_crop=False, show_labels=True, show_conf=True, show_boxes=True, line_width=None, format=torchscript, keras=False, optimize=False, int8=False, dynamic=False, simplify=True, opset=None, workspace=4, nms=False, lr0=0.01, lrf=0.01, momentum=0.937, weight_decay=0.0005, warmup_epochs=3.0, warmup_momentum=0.8, warmup_bias_lr=0.0, box=7.5, cls=0.5, dfl=1.5, pose=12.0, kobj=1.0, label_smoothing=0.0, nbs=64, hsv_h=0.015, hsv_s=0.7, hsv_v=0.4, degrees=0.0, translate=0.1, scale=0.5, shear=0.0, perspective=0.0, flipud=0.0, fliplr=0.5, bgr=0.0, mosaic=1.0, mixup=0.0, copy_paste=0.0, copy_paste_mode=flip, auto_augment=randaugment, erasing=0.4, crop_fraction=1.0, cfg=None, tracker=botsort.yaml, save_dir=runs\\detect\\train102\n",
      "\n",
      "                   from  n    params  module                                       arguments                     \n",
      "  0                  -1  1       464  ultralytics.nn.modules.conv.Conv             [3, 16, 3, 2]                 \n",
      "  1                  -1  1      4672  ultralytics.nn.modules.conv.Conv             [16, 32, 3, 2]                \n",
      "  2                  -1  1      6640  ultralytics.nn.modules.block.C3k2            [32, 64, 1, False, 0.25]      \n",
      "  3                  -1  1     36992  ultralytics.nn.modules.conv.Conv             [64, 64, 3, 2]                \n",
      "  4                  -1  1     26080  ultralytics.nn.modules.block.C3k2            [64, 128, 1, False, 0.25]     \n",
      "  5                  -1  1    147712  ultralytics.nn.modules.conv.Conv             [128, 128, 3, 2]              \n",
      "  6                  -1  1     87040  ultralytics.nn.modules.block.C3k2            [128, 128, 1, True]           \n",
      "  7                  -1  1    295424  ultralytics.nn.modules.conv.Conv             [128, 256, 3, 2]              \n",
      "  8                  -1  1    346112  ultralytics.nn.modules.block.C3k2            [256, 256, 1, True]           \n",
      "  9                  -1  1    164608  ultralytics.nn.modules.block.SPPF            [256, 256, 5]                 \n",
      " 10                  -1  1    249728  ultralytics.nn.modules.block.C2PSA           [256, 256, 1]                 \n",
      " 11                  -1  1         0  torch.nn.modules.upsampling.Upsample         [None, 2, 'nearest']          \n",
      " 12             [-1, 6]  1         0  ultralytics.nn.modules.conv.Concat           [1]                           \n",
      " 13                  -1  1    111296  ultralytics.nn.modules.block.C3k2            [384, 128, 1, False]          \n",
      " 14                  -1  1         0  torch.nn.modules.upsampling.Upsample         [None, 2, 'nearest']          \n",
      " 15             [-1, 4]  1         0  ultralytics.nn.modules.conv.Concat           [1]                           \n",
      " 16                  -1  1     32096  ultralytics.nn.modules.block.C3k2            [256, 64, 1, False]           \n",
      " 17                  -1  1     36992  ultralytics.nn.modules.conv.Conv             [64, 64, 3, 2]                \n",
      " 18            [-1, 13]  1         0  ultralytics.nn.modules.conv.Concat           [1]                           \n",
      " 19                  -1  1     86720  ultralytics.nn.modules.block.C3k2            [192, 128, 1, False]          \n",
      " 20                  -1  1    147712  ultralytics.nn.modules.conv.Conv             [128, 128, 3, 2]              \n",
      " 21            [-1, 10]  1         0  ultralytics.nn.modules.conv.Concat           [1]                           \n",
      " 22                  -1  1    378880  ultralytics.nn.modules.block.C3k2            [384, 256, 1, True]           \n",
      " 23        [16, 19, 22]  1    435742  ultralytics.nn.modules.head.Detect           [26, [64, 128, 256]]          \n",
      "YOLO11n summary: 319 layers, 2,594,910 parameters, 2,594,894 gradients, 6.5 GFLOPs\n",
      "\n",
      "Transferred 499/499 items from pretrained weights\n",
      "Freezing layer 'model.23.dfl.conv.weight'\n",
      "Plotting labels to runs\\detect\\train102\\labels.jpg... \n",
      "\u001b[34m\u001b[1moptimizer:\u001b[0m 'optimizer=auto' found, ignoring 'lr0=0.01' and 'momentum=0.937' and determining best 'optimizer', 'lr0' and 'momentum' automatically... \n",
      "\u001b[34m\u001b[1moptimizer:\u001b[0m AdamW(lr=0.000333, momentum=0.9) with parameter groups 81 weight(decay=0.0), 88 weight(decay=0.0005), 87 bias(decay=0.0)\n"
     ]
    },
    {
     "name": "stderr",
     "output_type": "stream",
     "text": [
      "\n",
      "\u001b[34m\u001b[1mtrain: \u001b[0mScanning C:\\Users\\ethan\\JupyterEnv\\ASL_Data\\train\\labels.cache... 1558 images, 0 backgrounds, 0 corrupt: 100%|##########| 1558/1558 [00:00<?, ?it/s]\n",
      "\u001b[34m\u001b[1mtrain: \u001b[0mScanning C:\\Users\\ethan\\JupyterEnv\\ASL_Data\\train\\labels.cache... 1558 images, 0 backgrounds, 0 corrupt: 100%|##########| 1558/1558 [00:00<?, ?it/s]\n",
      "\n",
      "\u001b[34m\u001b[1mval: \u001b[0mScanning C:\\Users\\ethan\\JupyterEnv\\ASL_Data\\valid\\labels.cache... 160 images, 0 backgrounds, 0 corrupt: 100%|##########| 160/160 [00:00<?, ?it/s]\n",
      "\u001b[34m\u001b[1mval: \u001b[0mScanning C:\\Users\\ethan\\JupyterEnv\\ASL_Data\\valid\\labels.cache... 160 images, 0 backgrounds, 0 corrupt: 100%|##########| 160/160 [00:00<?, ?it/s]\n",
      "Traceback (most recent call last):\n",
      "  File \"<frozen runpy>\", line 198, in _run_module_as_main\n",
      "  File \"<frozen runpy>\", line 88, in _run_code\n",
      "  File \"C:\\Users\\ethan\\AppData\\Local\\Packages\\PythonSoftwareFoundation.Python.3.12_qbz5n2kfra8p0\\LocalCache\\local-packages\\Python312\\Scripts\\yolo.exe\\__main__.py\", line 7, in <module>\n",
      "  File \"C:\\Users\\ethan\\AppData\\Local\\Packages\\PythonSoftwareFoundation.Python.3.12_qbz5n2kfra8p0\\LocalCache\\local-packages\\Python312\\site-packages\\ultralytics\\cfg\\__init__.py\", line 826, in entrypoint\n",
      "    getattr(model, mode)(**overrides)  # default args from model\n",
      "    ^^^^^^^^^^^^^^^^^^^^^^^^^^^^^^^^^\n",
      "  File \"C:\\Users\\ethan\\AppData\\Local\\Packages\\PythonSoftwareFoundation.Python.3.12_qbz5n2kfra8p0\\LocalCache\\local-packages\\Python312\\site-packages\\ultralytics\\engine\\model.py\", line 802, in train\n",
      "    self.trainer.train()\n",
      "  File \"C:\\Users\\ethan\\AppData\\Local\\Packages\\PythonSoftwareFoundation.Python.3.12_qbz5n2kfra8p0\\LocalCache\\local-packages\\Python312\\site-packages\\ultralytics\\engine\\trainer.py\", line 207, in train\n",
      "    self._do_train(world_size)\n",
      "  File \"C:\\Users\\ethan\\AppData\\Local\\Packages\\PythonSoftwareFoundation.Python.3.12_qbz5n2kfra8p0\\LocalCache\\local-packages\\Python312\\site-packages\\ultralytics\\engine\\trainer.py\", line 327, in _do_train\n",
      "    self._setup_train(world_size)\n",
      "  File \"C:\\Users\\ethan\\AppData\\Local\\Packages\\PythonSoftwareFoundation.Python.3.12_qbz5n2kfra8p0\\LocalCache\\local-packages\\Python312\\site-packages\\ultralytics\\engine\\trainer.py\", line 319, in _setup_train\n",
      "    self.resume_training(ckpt)\n",
      "  File \"C:\\Users\\ethan\\AppData\\Local\\Packages\\PythonSoftwareFoundation.Python.3.12_qbz5n2kfra8p0\\LocalCache\\local-packages\\Python312\\site-packages\\ultralytics\\engine\\trainer.py\", line 730, in resume_training\n",
      "    assert start_epoch > 0, (\n",
      "           ^^^^^^^^^^^^^^^\n",
      "AssertionError: C:\\Users\\ethan\\JupyterEnv\\runs\\detect\\train10\\weights\\best.pt training to 100 epochs is finished, nothing to resume.\n",
      "Start a new training without resuming, i.e. 'yolo train model=C:\\Users\\ethan\\JupyterEnv\\runs\\detect\\train10\\weights\\best.pt'\n"
     ]
    }
   ],
   "source": [
    "!yolo task=detect mode=train data=C:\\Users\\ethan\\JupyterEnv\\ASL_Data\\data.yaml model=C:\\Users\\ethan\\JupyterEnv\\runs\\detect\\train10\\weights\\best.pt epochs=100 imgsz=640 resume=true"
   ]
  },
  {
   "cell_type": "code",
   "execution_count": 16,
   "metadata": {
    "scrolled": true
   },
   "outputs": [
    {
     "name": "stdout",
     "output_type": "stream",
     "text": [
      "Ultralytics 8.3.27 ðŸš€ Python-3.12.7 torch-2.5.1+cpu CPU (AMD Ryzen 7 5800X 8-Core Processor)\n",
      "YOLO11n summary (fused): 238 layers, 2,587,222 parameters, 0 gradients, 6.3 GFLOPs\n",
      "                   all        160        160      0.922      0.904      0.976      0.823\n",
      "                    O1          5          5          1      0.839      0.995      0.841\n",
      "                    O2          9          9      0.986      0.778      0.973        0.8\n",
      "         PreviousSlide          9          9          1      0.779       0.93      0.788\n",
      "                    O3          6          6      0.875          1      0.995      0.853\n",
      "                    O4          4          4      0.957          1      0.995      0.895\n",
      "                    O5          8          8      0.881          1      0.995       0.86\n",
      "                    O6          5          5      0.992          1      0.995      0.857\n",
      "             NextSlide          9          9      0.989          1      0.995      0.797\n",
      "             LastSlide         10         10      0.815        0.9      0.938      0.819\n",
      "                    O7          8          8      0.982          1      0.995      0.715\n",
      "                    O8          6          6      0.944          1      0.995       0.85\n",
      "                    O9          4          4      0.786      0.929      0.945      0.831\n",
      "                   O10          8          8          1      0.851      0.995      0.858\n",
      "                   O11          4          4      0.615      0.805      0.849      0.761\n",
      "            FirstSlide          9          9       0.96      0.889      0.961      0.758\n",
      "                   O12          7          7      0.995      0.857      0.978       0.71\n",
      "                   O13          4          4      0.982          1      0.995      0.871\n",
      "                   O14          7          7          1      0.858      0.995       0.86\n",
      "                   O15          4          4      0.966          1      0.995       0.83\n",
      "                   O16          6          6      0.816      0.748      0.927      0.819\n",
      "                   O17          7          7      0.967          1      0.995      0.846\n",
      "                   O18          5          5          1      0.626      0.995      0.842\n",
      "                   O19          3          3      0.618          1      0.995      0.841\n",
      "                   O20          1          1      0.892          1      0.995      0.895\n",
      "                   O21          8          8          1      0.632      0.967      0.747\n",
      "                   O22          4          4      0.964          1      0.995      0.842\n",
      "Speed: 1.4ms preprocess, 60.8ms inference, 0.0ms loss, 0.4ms postprocess per image\n",
      "Results saved to \u001b[1mruns\\detect\\val3\u001b[0m\n",
      "ðŸ’¡ Learn more at https://docs.ultralytics.com/modes/val\n"
     ]
    },
    {
     "name": "stderr",
     "output_type": "stream",
     "text": [
      "\n",
      "\u001b[34m\u001b[1mval: \u001b[0mScanning C:\\Users\\ethan\\JupyterEnv\\ASL_Data\\valid\\labels.cache... 160 images, 0 backgrounds, 0 corrupt: 100%|##########| 160/160 [00:00<?, ?it/s]\n",
      "\u001b[34m\u001b[1mval: \u001b[0mScanning C:\\Users\\ethan\\JupyterEnv\\ASL_Data\\valid\\labels.cache... 160 images, 0 backgrounds, 0 corrupt: 100%|##########| 160/160 [00:00<?, ?it/s]\n",
      "\n",
      "                 Class     Images  Instances      Box(P          R      mAP50  mAP50-95):   0%|          | 0/10 [00:00<?, ?it/s]\n",
      "                 Class     Images  Instances      Box(P          R      mAP50  mAP50-95):  10%|#         | 1/10 [00:01<00:10,  1.11s/it]\n",
      "                 Class     Images  Instances      Box(P          R      mAP50  mAP50-95):  20%|##        | 2/10 [00:02<00:08,  1.12s/it]\n",
      "                 Class     Images  Instances      Box(P          R      mAP50  mAP50-95):  30%|###       | 3/10 [00:03<00:07,  1.12s/it]\n",
      "                 Class     Images  Instances      Box(P          R      mAP50  mAP50-95):  40%|####      | 4/10 [00:04<00:06,  1.11s/it]\n",
      "                 Class     Images  Instances      Box(P          R      mAP50  mAP50-95):  50%|#####     | 5/10 [00:05<00:05,  1.11s/it]\n",
      "                 Class     Images  Instances      Box(P          R      mAP50  mAP50-95):  60%|######    | 6/10 [00:06<00:04,  1.10s/it]\n",
      "                 Class     Images  Instances      Box(P          R      mAP50  mAP50-95):  70%|#######   | 7/10 [00:07<00:03,  1.09s/it]\n",
      "                 Class     Images  Instances      Box(P          R      mAP50  mAP50-95):  80%|########  | 8/10 [00:08<00:02,  1.09s/it]\n",
      "                 Class     Images  Instances      Box(P          R      mAP50  mAP50-95):  90%|######### | 9/10 [00:09<00:01,  1.10s/it]\n",
      "                 Class     Images  Instances      Box(P          R      mAP50  mAP50-95): 100%|##########| 10/10 [00:12<00:00,  1.58s/it]\n",
      "                 Class     Images  Instances      Box(P          R      mAP50  mAP50-95): 100%|##########| 10/10 [00:12<00:00,  1.26s/it]\n"
     ]
    }
   ],
   "source": [
    "!yolo task=detect mode=val model=C:\\Users\\ethan\\JupyterEnv\\runs\\detect\\train10\\weights\\best.pt data=C:\\Users\\ethan\\JupyterEnv\\ASL_Data\\data.yaml"
   ]
  },
  {
   "cell_type": "code",
   "execution_count": 27,
   "metadata": {
    "scrolled": true
   },
   "outputs": [
    {
     "name": "stdout",
     "output_type": "stream",
     "text": [
      "Ultralytics 8.3.27 ðŸš€ Python-3.12.7 torch-2.5.1+cpu CPU (AMD Ryzen 7 5800X 8-Core Processor)\n",
      "YOLO11n summary (fused): 238 layers, 2,587,222 parameters, 0 gradients, 6.3 GFLOPs\n",
      "\n",
      "image 1/32 C:\\Users\\ethan\\JupyterEnv\\ASL_Data\\EthanTest2Crop\\PXL_20241106_221831047.PORTRAIT.jpg: 480x640 1 NextSlide, 60.2ms\n",
      "image 2/32 C:\\Users\\ethan\\JupyterEnv\\ASL_Data\\EthanTest2Crop\\PXL_20241106_221839270.PORTRAIT.jpg: 480x640 1 NextSlide, 46.7ms\n",
      "image 3/32 C:\\Users\\ethan\\JupyterEnv\\ASL_Data\\EthanTest2Crop\\PXL_20241106_221845583.PORTRAIT.jpg: 512x640 1 NextSlide, 54.8ms\n",
      "image 4/32 C:\\Users\\ethan\\JupyterEnv\\ASL_Data\\EthanTest2Crop\\PXL_20241106_221852132.PORTRAIT.jpg: 544x640 (no detections), 62.6ms\n",
      "image 5/32 C:\\Users\\ethan\\JupyterEnv\\ASL_Data\\EthanTest2Crop\\PXL_20241106_221858768.PORTRAIT.jpg: 576x640 (no detections), 66.4ms\n",
      "image 6/32 C:\\Users\\ethan\\JupyterEnv\\ASL_Data\\EthanTest2Crop\\PXL_20241106_221911794.PORTRAIT.jpg: 640x512 1 O17, 62.2ms\n",
      "image 7/32 C:\\Users\\ethan\\JupyterEnv\\ASL_Data\\EthanTest2Crop\\PXL_20241106_221917885.PORTRAIT.jpg: 480x640 1 NextSlide, 48.2ms\n",
      "image 8/32 C:\\Users\\ethan\\JupyterEnv\\ASL_Data\\EthanTest2Crop\\PXL_20241106_221923792.PORTRAIT.jpg: 640x640 1 O13, 70.1ms\n",
      "image 9/32 C:\\Users\\ethan\\JupyterEnv\\ASL_Data\\EthanTest2Crop\\PXL_20241106_221929843.PORTRAIT.jpg: 512x640 1 PreviousSlide, 47.8ms\n",
      "image 10/32 C:\\Users\\ethan\\JupyterEnv\\ASL_Data\\EthanTest2Crop\\PXL_20241106_221935887.PORTRAIT.jpg: 480x640 1 NextSlide, 44.6ms\n",
      "image 11/32 C:\\Users\\ethan\\JupyterEnv\\ASL_Data\\EthanTest2Crop\\PXL_20241106_221941763.PORTRAIT.jpg: 640x640 1 O5, 62.8ms\n",
      "image 12/32 C:\\Users\\ethan\\JupyterEnv\\ASL_Data\\EthanTest2Crop\\PXL_20241106_221947484.PORTRAIT.jpg: 576x640 1 LastSlide, 56.8ms\n",
      "image 13/32 C:\\Users\\ethan\\JupyterEnv\\ASL_Data\\EthanTest2Crop\\PXL_20241106_221953520.PORTRAIT.jpg: 640x544 1 O13, 67.7ms\n",
      "image 14/32 C:\\Users\\ethan\\JupyterEnv\\ASL_Data\\EthanTest2Crop\\PXL_20241106_222000924.PORTRAIT.jpg: 576x640 (no detections), 55.5ms\n",
      "image 15/32 C:\\Users\\ethan\\JupyterEnv\\ASL_Data\\EthanTest2Crop\\PXL_20241106_222006815.PORTRAIT.jpg: 544x640 (no detections), 109.2ms\n",
      "image 16/32 C:\\Users\\ethan\\JupyterEnv\\ASL_Data\\EthanTest2Crop\\PXL_20241106_222012683.PORTRAIT.ORIGINAL.jpg: 640x608 1 O13, 65.8ms\n",
      "image 17/32 C:\\Users\\ethan\\JupyterEnv\\ASL_Data\\EthanTest2Crop\\PXL_20241106_222018404.PORTRAIT.jpg: 640x640 1 FirstSlide, 51.7ms\n",
      "image 18/32 C:\\Users\\ethan\\JupyterEnv\\ASL_Data\\EthanTest2Crop\\PXL_20241106_222024709.PORTRAIT.ORIGINAL.jpg: 640x640 1 NextSlide, 54.9ms\n",
      "image 19/32 C:\\Users\\ethan\\JupyterEnv\\ASL_Data\\EthanTest2Crop\\PXL_20241106_222030550.PORTRAIT.jpg: 640x640 1 LastSlide, 62.3ms\n",
      "image 20/32 C:\\Users\\ethan\\JupyterEnv\\ASL_Data\\EthanTest2Crop\\PXL_20241106_222036486.PORTRAIT.ORIGINAL.jpg: 640x608 (no detections), 61.0ms\n",
      "image 21/32 C:\\Users\\ethan\\JupyterEnv\\ASL_Data\\EthanTest2Crop\\PXL_20241106_222042694.PORTRAIT.ORIGINAL.jpg: 576x640 2 NextSlides, 54.0ms\n",
      "image 22/32 C:\\Users\\ethan\\JupyterEnv\\ASL_Data\\EthanTest2Crop\\PXL_20241106_222049284.PORTRAIT.ORIGINAL.jpg: 512x640 1 PreviousSlide, 48.3ms\n",
      "image 23/32 C:\\Users\\ethan\\JupyterEnv\\ASL_Data\\EthanTest2Crop\\PXL_20241106_222055795.PORTRAIT.jpg: 640x640 1 LastSlide, 54.7ms\n",
      "image 24/32 C:\\Users\\ethan\\JupyterEnv\\ASL_Data\\EthanTest2Crop\\PXL_20241106_222101621.PORTRAIT.ORIGINAL.jpg: 544x640 (no detections), 51.2ms\n",
      "image 25/32 C:\\Users\\ethan\\JupyterEnv\\ASL_Data\\EthanTest2Crop\\PXL_20241106_222107875.PORTRAIT.ORIGINAL.jpg: 640x576 1 LastSlide, 67.5ms\n",
      "image 26/32 C:\\Users\\ethan\\JupyterEnv\\ASL_Data\\EthanTest2Crop\\PXL_20241106_222113867.PORTRAIT.jpg: 640x640 1 LastSlide, 57.2ms\n",
      "image 27/32 C:\\Users\\ethan\\JupyterEnv\\ASL_Data\\EthanTest2Crop\\PXL_20241106_222120000.PORTRAIT.ORIGINAL.jpg: 576x640 1 NextSlide, 48.9ms\n",
      "image 28/32 C:\\Users\\ethan\\JupyterEnv\\ASL_Data\\EthanTest2Crop\\PXL_20241106_222126426.PORTRAIT.jpg: 608x640 1 LastSlide, 63.1ms\n",
      "image 29/32 C:\\Users\\ethan\\JupyterEnv\\ASL_Data\\EthanTest2Crop\\PXL_20241106_222132962.PORTRAIT.jpg: 640x640 1 LastSlide, 53.1ms\n",
      "image 30/32 C:\\Users\\ethan\\JupyterEnv\\ASL_Data\\EthanTest2Crop\\PXL_20241106_222139146.PORTRAIT.ORIGINAL.jpg: 608x640 (no detections), 127.5ms\n",
      "image 31/32 C:\\Users\\ethan\\JupyterEnv\\ASL_Data\\EthanTest2Crop\\PXL_20241106_222145120.PORTRAIT.jpg: 576x640 1 O12, 60.4ms\n",
      "image 32/32 C:\\Users\\ethan\\JupyterEnv\\ASL_Data\\EthanTest2Crop\\PXL_20241106_222151267.PORTRAIT.jpg: 640x640 1 O13, 87.9ms\n",
      "Speed: 2.8ms preprocess, 62.0ms inference, 0.7ms postprocess per image at shape (1, 3, 640, 640)\n",
      "Results saved to \u001b[1mruns\\detect\\predict13\u001b[0m\n",
      "ðŸ’¡ Learn more at https://docs.ultralytics.com/modes/predict\n"
     ]
    }
   ],
   "source": [
    "!yolo task=detect mode=predict model=C:\\Users\\ethan\\JupyterEnv\\runs\\detect\\train9\\weights\\best.pt conf=0.25 source=C:\\Users\\ethan\\JupyterEnv\\ASL_Data\\EthanTest2Crop save=True"
   ]
  },
  {
   "cell_type": "code",
   "execution_count": null,
   "metadata": {},
   "outputs": [],
   "source": []
  }
 ],
 "metadata": {
  "colab": {
   "provenance": []
  },
  "kernelspec": {
   "display_name": "Python 3 (ipykernel)",
   "language": "python",
   "name": "python3"
  },
  "language_info": {
   "codemirror_mode": {
    "name": "ipython",
    "version": 3
   },
   "file_extension": ".py",
   "mimetype": "text/x-python",
   "name": "python",
   "nbconvert_exporter": "python",
   "pygments_lexer": "ipython3",
   "version": "3.12.7"
  }
 },
 "nbformat": 4,
 "nbformat_minor": 4
}
